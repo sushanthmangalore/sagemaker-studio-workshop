{
 "cells": [
  {
   "cell_type": "code",
   "execution_count": 20,
   "metadata": {},
   "outputs": [
    {
     "data": {
      "text/plain": [
       "{'ResponseMetadata': {'RequestId': '4E251NKF136V0NCY',\n",
       "  'HostId': 'EiUkQsC6JEtAxUltj/8i8svxqc+T3mty08PhLWkk4CcBrrzqnBQL+jGP537UOvps6uoqr6h+LMU=',\n",
       "  'HTTPStatusCode': 200,\n",
       "  'HTTPHeaders': {'x-amz-id-2': 'EiUkQsC6JEtAxUltj/8i8svxqc+T3mty08PhLWkk4CcBrrzqnBQL+jGP537UOvps6uoqr6h+LMU=',\n",
       "   'x-amz-request-id': '4E251NKF136V0NCY',\n",
       "   'date': 'Tue, 20 Jul 2021 07:13:15 GMT',\n",
       "   'etag': '\"38ece70085c8287e54652440b4476255\"',\n",
       "   'server': 'AmazonS3',\n",
       "   'content-length': '0'},\n",
       "  'RetryAttempts': 0},\n",
       " 'ETag': '\"38ece70085c8287e54652440b4476255\"'}"
      ]
     },
     "execution_count": 20,
     "metadata": {},
     "output_type": "execute_result"
    }
   ],
   "source": [
    "import pandas as pd\n",
    "from io import StringIO\n",
    "import boto3\n",
    "\n",
    "bucket = \"sm-sagmakerstudio07202021\"\n",
    "file_name = \"web-and-social-analytics.csv\"\n",
    "\n",
    "s3 = boto3.client('s3') \n",
    "\n",
    "# Read CSV from S3\n",
    "obj = s3.get_object(Bucket= bucket, Key= file_name)\n",
    "initial_df = pd.read_csv(obj['Body'])\n",
    "\n",
    "# Create output dataframe\n",
    "out_df = initial_df.iloc[:, [0,5]] \n",
    "\n",
    "# Write output to S3\n",
    "csv_buf = StringIO()\n",
    "out_df.to_csv(csv_buf, header=True, index=False)\n",
    "csv_buf.seek(0)\n",
    "s3.put_object(Bucket=bucket, Body=csv_buf.getvalue(), Key='twitter-mentions.csv')\n",
    "\n",
    "\n"
   ]
  },
  {
   "cell_type": "code",
   "execution_count": null,
   "metadata": {},
   "outputs": [],
   "source": []
  },
  {
   "cell_type": "code",
   "execution_count": null,
   "metadata": {},
   "outputs": [],
   "source": []
  }
 ],
 "metadata": {
  "instance_type": "ml.t3.medium",
  "kernelspec": {
   "display_name": "Python 3 (Data Science)",
   "language": "python",
   "name": "python3__SAGEMAKER_INTERNAL__arn:aws:sagemaker:us-east-2:429704687514:image/datascience-1.0"
  },
  "language_info": {
   "codemirror_mode": {
    "name": "ipython",
    "version": 3
   },
   "file_extension": ".py",
   "mimetype": "text/x-python",
   "name": "python",
   "nbconvert_exporter": "python",
   "pygments_lexer": "ipython3",
   "version": "3.7.10"
  }
 },
 "nbformat": 4,
 "nbformat_minor": 4
}
